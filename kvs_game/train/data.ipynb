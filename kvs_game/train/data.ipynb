{
 "cells": [
  {
   "cell_type": "code",
   "execution_count": 5,
   "metadata": {},
   "outputs": [],
   "source": [
    "video_path = '/Users/othmaneechchabi/Desktop/College/Undergrad/DKU SPRING 2024/COMPSCI302/dku_football/kvs_game/videos/TrainingW.mp4'\n",
    "output_folder = 'extracted_frames3'\n"
   ]
  },
  {
   "cell_type": "code",
   "execution_count": 6,
   "metadata": {},
   "outputs": [
    {
     "name": "stdout",
     "output_type": "stream",
     "text": [
      "Total frames extracted: 109\n"
     ]
    }
   ],
   "source": [
    "import cv2\n",
    "import os\n",
    "\n",
    "# Function to extract frames\n",
    "def extract_frames(video_path, output_folder):\n",
    "    # Create output folder if it doesn't exist\n",
    "    if not os.path.exists(output_folder):\n",
    "        os.makedirs(output_folder)\n",
    "    \n",
    "    # Load the video\n",
    "    cap = cv2.VideoCapture(video_path)\n",
    "    if not cap.isOpened():\n",
    "        print(\"Error: Could not open video.\")\n",
    "        return\n",
    "\n",
    "    fps = cap.get(cv2.CAP_PROP_FPS)  # Frames per second\n",
    "    frame_interval = 5*int(fps)  # Interval of frames to skip\n",
    "\n",
    "    current_frame = 0\n",
    "    frame_count = 0\n",
    "\n",
    "    while True:\n",
    "        # Read frame\n",
    "        success, frame = cap.read()\n",
    "        if not success:\n",
    "            break\n",
    "        \n",
    "        # Check if the current frame number is the one we want to write\n",
    "        if current_frame % frame_interval == 0:\n",
    "            frame_time = int(current_frame / fps)\n",
    "            filename = f'frame_at_{frame_time}_sec.jpg'\n",
    "            filepath = os.path.join(output_folder, filename)\n",
    "            cv2.imwrite(filepath, frame)\n",
    "            frame_count += 1\n",
    "        \n",
    "        current_frame += 1\n",
    "\n",
    "    cap.release()\n",
    "    print(f\"Total frames extracted: {frame_count}\")\n",
    "\n",
    "# Extract frames\n",
    "extract_frames(video_path, output_folder)\n"
   ]
  },
  {
   "cell_type": "code",
   "execution_count": null,
   "metadata": {},
   "outputs": [],
   "source": []
  }
 ],
 "metadata": {
  "kernelspec": {
   "display_name": "base",
   "language": "python",
   "name": "python3"
  },
  "language_info": {
   "codemirror_mode": {
    "name": "ipython",
    "version": 3
   },
   "file_extension": ".py",
   "mimetype": "text/x-python",
   "name": "python",
   "nbconvert_exporter": "python",
   "pygments_lexer": "ipython3",
   "version": "3.10.9"
  }
 },
 "nbformat": 4,
 "nbformat_minor": 2
}
